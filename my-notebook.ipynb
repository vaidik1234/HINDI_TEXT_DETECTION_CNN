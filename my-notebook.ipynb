{
 "cells": [
  {
   "cell_type": "code",
   "execution_count": 9,
   "metadata": {},
   "outputs": [],
   "source": [
    "import tensorflow as tf\n",
    "from tensorflow import keras\n",
    "from tensorflow.keras import preprocessing,layers,models\n",
    "import matplotlib.pyplot as plt\n",
    "import os\n",
    "os.chdir('F://')\n"
   ]
  },
  {
   "cell_type": "code",
   "execution_count": 10,
   "metadata": {},
   "outputs": [],
   "source": [
    "IMAGE_SIZE = 64\n",
    "BATCH_SIZE = 100\n",
    "CHENNALS = 3"
   ]
  },
  {
   "cell_type": "code",
   "execution_count": 11,
   "metadata": {},
   "outputs": [
    {
     "name": "stdout",
     "output_type": "stream",
     "text": [
      "Found 5875 files belonging to 2 classes.\n"
     ]
    }
   ],
   "source": [
    "dataset = preprocessing.image_dataset_from_directory(\n",
    "'HINDI_CHAR_CNN/training',\n",
    "shuffle = True,\n",
    "image_size=(IMAGE_SIZE,IMAGE_SIZE),\n",
    "batch_size = BATCH_SIZE)"
   ]
  },
  {
   "cell_type": "code",
   "execution_count": 12,
   "metadata": {},
   "outputs": [],
   "source": [
    "class_names = dataset.class_names"
   ]
  },
  {
   "cell_type": "code",
   "execution_count": 129,
   "metadata": {},
   "outputs": [
    {
     "data": {
      "text/plain": [
       "59"
      ]
     },
     "execution_count": 129,
     "metadata": {},
     "output_type": "execute_result"
    }
   ],
   "source": [
    "len(dataset)"
   ]
  },
  {
   "cell_type": "code",
   "execution_count": 130,
   "metadata": {},
   "outputs": [
    {
     "name": "stdout",
     "output_type": "stream",
     "text": [
      "(100, 64, 64, 3)\n",
      "(64, 64, 3)\n"
     ]
    },
    {
     "data": {
      "image/png": "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\n",
      "text/plain": [
       "<Figure size 432x288 with 1 Axes>"
      ]
     },
     "metadata": {
      "needs_background": "light"
     },
     "output_type": "display_data"
    }
   ],
   "source": [
    "for imgs, labels in dataset.take(1):\n",
    "    print(imgs.shape)\n",
    "    print(imgs[0].shape)\n",
    "    plt.imshow(imgs[0].numpy().astype('uint8'))\n",
    "    plt.title(class_names[labels[0]])\n",
    "    plt.axis('off')\n",
    "    "
   ]
  },
  {
   "cell_type": "code",
   "execution_count": 229,
   "metadata": {},
   "outputs": [],
   "source": [
    "#split dataset\n",
    "def dataset_split(dataset, train_split=0.8,val_split=0.1,test_split=0.1, shuffle=True, shuffle_size=10000):\n",
    "    size=len(dataset)\n",
    "    if shuffle:\n",
    "        dataset=dataset.shuffle(shuffle_size, seed=12)\n",
    "    train_size=int(size*train_split)\n",
    "    val_size=int(size*val_split)\n",
    "    test_size=int(size*test_split)\n",
    "    \n",
    "    train_ds=dataset.take(train_size)\n",
    "    test_ds= dataset.skip(train_size) # because 54 already taken for training\n",
    "    \n",
    "    val_ds= test_ds.take(val_size)\n",
    "    test_ds=test_ds.skip(val_size)\n",
    "    \n",
    "    return train_ds,val_ds,test_ds"
   ]
  },
  {
   "cell_type": "code",
   "execution_count": 230,
   "metadata": {},
   "outputs": [],
   "source": [
    "train_ds, val_ds, test_ds = dataset_split(dataset)"
   ]
  },
  {
   "cell_type": "code",
   "execution_count": 209,
   "metadata": {},
   "outputs": [
    {
     "data": {
      "text/plain": [
       "47"
      ]
     },
     "execution_count": 209,
     "metadata": {},
     "output_type": "execute_result"
    }
   ],
   "source": [
    "len(train_ds)"
   ]
  },
  {
   "cell_type": "code",
   "execution_count": 231,
   "metadata": {},
   "outputs": [],
   "source": [
    "train_ds = train_ds.cache().shuffle(1000).prefetch(buffer_size=tf.data.AUTOTUNE)\n",
    "val_ds = val_ds.cache().shuffle(1000).prefetch(buffer_size=tf.data.AUTOTUNE)\n",
    "test_ds = test_ds.cache().shuffle(1000).prefetch(buffer_size=tf.data.AUTOTUNE)"
   ]
  },
  {
   "cell_type": "code",
   "execution_count": 211,
   "metadata": {},
   "outputs": [],
   "source": [
    "rescale = keras.Sequential([\n",
    "    layers.experimental.preprocessing.Resizing(IMAGE_SIZE, IMAGE_SIZE),\n",
    "    layers.experimental.preprocessing.Rescaling(1.0/255)\n",
    "    \n",
    "])"
   ]
  },
  {
   "cell_type": "code",
   "execution_count": 212,
   "metadata": {},
   "outputs": [],
   "source": [
    "aug = keras.Sequential([\n",
    "    layers.experimental.preprocessing.RandomFlip(mode='horizontal_and_vertical'),\n",
    "    layers.experimental.preprocessing.RandomRotation(0.2)\n",
    "])"
   ]
  },
  {
   "cell_type": "code",
   "execution_count": 213,
   "metadata": {},
   "outputs": [],
   "source": [
    "INPUT_SHAPE = (BATCH_SIZE, IMAGE_SIZE, IMAGE_SIZE, CHENNALS )\n",
    "n_classes = int(2)"
   ]
  },
  {
   "cell_type": "code",
   "execution_count": 248,
   "metadata": {},
   "outputs": [],
   "source": [
    "fun1 = 'elu'\n",
    "fun = 'softsign'"
   ]
  },
  {
   "cell_type": "code",
   "execution_count": 249,
   "metadata": {},
   "outputs": [],
   "source": [
    "model = models.Sequential([\n",
    "    rescale,\n",
    "    aug,\n",
    "    layers.ZeroPadding2D(padding = (1,1)),\n",
    "    layers.Conv2D(32,2, activation =fun, input_shape=INPUT_SHAPE),\n",
    "    layers.MaxPooling2D((2,2)),\n",
    "    layers.ZeroPadding2D(padding = (1,1)),\n",
    "    layers.Conv2D(100, 3, activation = fun),\n",
    "    layers.MaxPooling2D((2,2)),\n",
    "    layers.ZeroPadding2D(padding = (1,1)),\n",
    "    layers.Conv2D(100, 3, activation = fun),\n",
    "    layers.MaxPooling2D((2,2)),\n",
    "    layers.ZeroPadding2D(padding = (1,1)),\n",
    "    layers.Conv2D(100, 2, activation = fun1),\n",
    "    layers.MaxPooling2D((2,2)),\n",
    "    layers.ZeroPadding2D(padding = (1,1)),\n",
    "    layers.Conv2D(100, 2, activation = fun1),\n",
    "    layers.MaxPooling2D((2,2)),\n",
    "    layers.ZeroPadding2D(padding = (1,1)),\n",
    "    layers.Conv2D(30, 2, activation = fun1),\n",
    "    layers.MaxPooling2D((2,2)),\n",
    "  \n",
    "    layers.Flatten(),\n",
    "    layers.Dense(100,activation = 'relu'),\n",
    "    layers.Dense(n_classes, activation = 'softmax'),         \n",
    "    \n",
    "])\n",
    "model.build(input_shape=INPUT_SHAPE)"
   ]
  },
  {
   "cell_type": "code",
   "execution_count": 250,
   "metadata": {},
   "outputs": [],
   "source": [
    "model.compile(\n",
    "    optimizer='adam',\n",
    "    loss=tf.keras.losses.SparseCategoricalCrossentropy(from_logits=False),\n",
    "    metrics=['accuracy']\n",
    ")"
   ]
  },
  {
   "cell_type": "code",
   "execution_count": 251,
   "metadata": {},
   "outputs": [
    {
     "name": "stdout",
     "output_type": "stream",
     "text": [
      "Epoch 1/50\n",
      "47/47 [==============================] - 5s 77ms/step - loss: 0.5434 - accuracy: 0.7594 - val_loss: 0.4435 - val_accuracy: 0.7760\n",
      "Epoch 2/50\n",
      "47/47 [==============================] - 3s 73ms/step - loss: 0.3518 - accuracy: 0.8541 - val_loss: 0.2459 - val_accuracy: 0.9340\n",
      "Epoch 3/50\n",
      "47/47 [==============================] - 3s 73ms/step - loss: 0.2440 - accuracy: 0.9147 - val_loss: 0.1762 - val_accuracy: 0.9520\n",
      "Epoch 4/50\n",
      "47/47 [==============================] - 3s 73ms/step - loss: 0.2074 - accuracy: 0.9251 - val_loss: 0.1483 - val_accuracy: 0.9580\n",
      "Epoch 5/50\n",
      "47/47 [==============================] - 4s 77ms/step - loss: 0.1628 - accuracy: 0.9390 - val_loss: 0.1612 - val_accuracy: 0.9300\n",
      "Epoch 6/50\n",
      "47/47 [==============================] - 4s 77ms/step - loss: 0.1563 - accuracy: 0.9433 - val_loss: 0.0955 - val_accuracy: 0.9720\n",
      "Epoch 7/50\n",
      "47/47 [==============================] - 4s 77ms/step - loss: 0.1410 - accuracy: 0.9440 - val_loss: 0.1401 - val_accuracy: 0.9440\n",
      "Epoch 8/50\n",
      "47/47 [==============================] - 4s 77ms/step - loss: 0.1622 - accuracy: 0.9410 - val_loss: 0.1072 - val_accuracy: 0.9540\n",
      "Epoch 9/50\n",
      "47/47 [==============================] - 4s 77ms/step - loss: 0.1121 - accuracy: 0.9581 - val_loss: 0.0825 - val_accuracy: 0.9700\n",
      "Epoch 10/50\n",
      "47/47 [==============================] - 4s 77ms/step - loss: 0.1302 - accuracy: 0.9527 - val_loss: 0.0759 - val_accuracy: 0.9820\n",
      "Epoch 11/50\n",
      "47/47 [==============================] - 4s 77ms/step - loss: 0.0983 - accuracy: 0.9641 - val_loss: 0.0743 - val_accuracy: 0.9700\n",
      "Epoch 12/50\n",
      "47/47 [==============================] - 4s 77ms/step - loss: 0.0953 - accuracy: 0.9643 - val_loss: 0.0805 - val_accuracy: 0.9740\n",
      "Epoch 13/50\n",
      "47/47 [==============================] - 4s 77ms/step - loss: 0.1049 - accuracy: 0.9574 - val_loss: 0.0548 - val_accuracy: 0.9860\n",
      "Epoch 14/50\n",
      "47/47 [==============================] - 4s 77ms/step - loss: 0.0851 - accuracy: 0.9709 - val_loss: 0.0551 - val_accuracy: 0.9900\n",
      "Epoch 15/50\n",
      "47/47 [==============================] - 4s 77ms/step - loss: 0.0921 - accuracy: 0.9664 - val_loss: 0.0733 - val_accuracy: 0.9720\n",
      "Epoch 16/50\n",
      "47/47 [==============================] - 4s 77ms/step - loss: 0.0674 - accuracy: 0.9765 - val_loss: 0.0495 - val_accuracy: 0.9860\n",
      "Epoch 17/50\n",
      "47/47 [==============================] - 4s 77ms/step - loss: 0.0757 - accuracy: 0.9737 - val_loss: 0.0700 - val_accuracy: 0.9780\n",
      "Epoch 18/50\n",
      "47/47 [==============================] - 4s 77ms/step - loss: 0.0593 - accuracy: 0.9786 - val_loss: 0.0549 - val_accuracy: 0.9800\n",
      "Epoch 19/50\n",
      "47/47 [==============================] - 4s 77ms/step - loss: 0.0523 - accuracy: 0.9816 - val_loss: 0.0602 - val_accuracy: 0.9820\n",
      "Epoch 20/50\n",
      "47/47 [==============================] - 4s 77ms/step - loss: 0.0478 - accuracy: 0.9810 - val_loss: 0.0299 - val_accuracy: 0.9920\n",
      "Epoch 21/50\n",
      "47/47 [==============================] - 4s 77ms/step - loss: 0.0726 - accuracy: 0.9728 - val_loss: 0.0434 - val_accuracy: 0.9820\n",
      "Epoch 22/50\n",
      "47/47 [==============================] - 4s 77ms/step - loss: 0.0731 - accuracy: 0.9733 - val_loss: 0.0430 - val_accuracy: 0.9880\n",
      "Epoch 23/50\n",
      "47/47 [==============================] - 4s 77ms/step - loss: 0.0731 - accuracy: 0.9716 - val_loss: 0.0360 - val_accuracy: 0.9900\n",
      "Epoch 24/50\n",
      "47/47 [==============================] - 4s 76ms/step - loss: 0.0519 - accuracy: 0.9814 - val_loss: 0.0620 - val_accuracy: 0.9760\n",
      "Epoch 25/50\n",
      "47/47 [==============================] - 4s 76ms/step - loss: 0.0473 - accuracy: 0.9820 - val_loss: 0.0415 - val_accuracy: 0.9860\n",
      "Epoch 26/50\n",
      "47/47 [==============================] - 4s 76ms/step - loss: 0.0478 - accuracy: 0.9825 - val_loss: 0.0258 - val_accuracy: 0.9920\n",
      "Epoch 27/50\n",
      "47/47 [==============================] - 4s 77ms/step - loss: 0.0588 - accuracy: 0.9771 - val_loss: 0.0579 - val_accuracy: 0.9800\n",
      "Epoch 28/50\n",
      "47/47 [==============================] - 4s 77ms/step - loss: 0.0551 - accuracy: 0.9810 - val_loss: 0.0289 - val_accuracy: 0.9940\n",
      "Epoch 29/50\n",
      "47/47 [==============================] - 4s 77ms/step - loss: 0.0452 - accuracy: 0.9837 - val_loss: 0.0481 - val_accuracy: 0.9900\n",
      "Epoch 30/50\n",
      "47/47 [==============================] - 4s 77ms/step - loss: 0.0541 - accuracy: 0.9807 - val_loss: 0.2953 - val_accuracy: 0.8760\n",
      "Epoch 31/50\n",
      "47/47 [==============================] - 4s 77ms/step - loss: 0.0669 - accuracy: 0.9765 - val_loss: 0.0579 - val_accuracy: 0.9860\n",
      "Epoch 32/50\n",
      "47/47 [==============================] - 4s 77ms/step - loss: 0.0551 - accuracy: 0.9816 - val_loss: 0.0340 - val_accuracy: 0.9880\n",
      "Epoch 33/50\n",
      "47/47 [==============================] - 4s 77ms/step - loss: 0.0368 - accuracy: 0.9852 - val_loss: 0.0421 - val_accuracy: 0.9920\n",
      "Epoch 34/50\n",
      "47/47 [==============================] - 4s 77ms/step - loss: 0.0313 - accuracy: 0.9895 - val_loss: 0.0253 - val_accuracy: 0.9940\n",
      "Epoch 35/50\n",
      "47/47 [==============================] - 4s 77ms/step - loss: 0.0414 - accuracy: 0.9859 - val_loss: 0.0425 - val_accuracy: 0.9880\n",
      "Epoch 36/50\n",
      "47/47 [==============================] - 4s 77ms/step - loss: 0.0282 - accuracy: 0.9893 - val_loss: 0.0613 - val_accuracy: 0.9800\n",
      "Epoch 37/50\n",
      "47/47 [==============================] - 4s 77ms/step - loss: 0.0293 - accuracy: 0.9897 - val_loss: 0.0462 - val_accuracy: 0.9860\n",
      "Epoch 38/50\n",
      "47/47 [==============================] - 4s 77ms/step - loss: 0.0325 - accuracy: 0.9867 - val_loss: 0.0329 - val_accuracy: 0.9920\n",
      "Epoch 39/50\n",
      "47/47 [==============================] - 4s 78ms/step - loss: 0.0456 - accuracy: 0.9818 - val_loss: 0.0476 - val_accuracy: 0.9880\n",
      "Epoch 40/50\n",
      "47/47 [==============================] - 4s 77ms/step - loss: 0.0250 - accuracy: 0.9919 - val_loss: 0.0259 - val_accuracy: 0.9900\n",
      "Epoch 41/50\n",
      "47/47 [==============================] - 4s 77ms/step - loss: 0.0239 - accuracy: 0.9897 - val_loss: 0.0252 - val_accuracy: 0.9920\n",
      "Epoch 42/50\n",
      "47/47 [==============================] - 4s 77ms/step - loss: 0.0391 - accuracy: 0.9863 - val_loss: 0.0435 - val_accuracy: 0.9860\n",
      "Epoch 43/50\n",
      "47/47 [==============================] - 4s 77ms/step - loss: 0.0384 - accuracy: 0.9870 - val_loss: 0.0371 - val_accuracy: 0.9900\n",
      "Epoch 44/50\n",
      "47/47 [==============================] - 4s 77ms/step - loss: 0.0265 - accuracy: 0.9908 - val_loss: 0.0407 - val_accuracy: 0.9860\n",
      "Epoch 45/50\n",
      "47/47 [==============================] - 4s 77ms/step - loss: 0.0392 - accuracy: 0.9865 - val_loss: 0.0363 - val_accuracy: 0.9860\n",
      "Epoch 46/50\n",
      "47/47 [==============================] - 4s 77ms/step - loss: 0.0346 - accuracy: 0.9880 - val_loss: 0.0239 - val_accuracy: 0.9880\n",
      "Epoch 47/50\n",
      "47/47 [==============================] - 4s 77ms/step - loss: 0.0247 - accuracy: 0.9917 - val_loss: 0.0632 - val_accuracy: 0.9840\n",
      "Epoch 48/50\n",
      "47/47 [==============================] - 4s 77ms/step - loss: 0.0224 - accuracy: 0.9921 - val_loss: 0.0314 - val_accuracy: 0.9880\n",
      "Epoch 49/50\n",
      "47/47 [==============================] - 4s 77ms/step - loss: 0.0338 - accuracy: 0.9872 - val_loss: 0.0362 - val_accuracy: 0.9900\n",
      "Epoch 50/50\n",
      "47/47 [==============================] - 4s 77ms/step - loss: 0.0223 - accuracy: 0.9917 - val_loss: 0.0312 - val_accuracy: 0.9900\n"
     ]
    }
   ],
   "source": [
    "history = model.fit(\n",
    "    train_ds,\n",
    "    epochs=50,\n",
    "    batch_size=BATCH_SIZE,\n",
    "    verbose=1,\n",
    "    validation_data=val_ds\n",
    ")"
   ]
  },
  {
   "cell_type": "code",
   "execution_count": 252,
   "metadata": {},
   "outputs": [
    {
     "name": "stdout",
     "output_type": "stream",
     "text": [
      "7/7 [==============================] - 0s 28ms/step - loss: 0.0350 - accuracy: 0.9886\n"
     ]
    }
   ],
   "source": [
    "scores = model.evaluate(test_ds)"
   ]
  },
  {
   "cell_type": "code",
   "execution_count": 2,
   "metadata": {},
   "outputs": [],
   "source": [
    "from tensorflow import keras"
   ]
  },
  {
   "cell_type": "code",
   "execution_count": 3,
   "metadata": {},
   "outputs": [],
   "source": [
    "load_m= keras.models.load_model('F:/NN/saved model/hindi_class')"
   ]
  },
  {
   "cell_type": "code",
   "execution_count": 4,
   "metadata": {},
   "outputs": [
    {
     "ename": "NameError",
     "evalue": "name 'model' is not defined",
     "output_type": "error",
     "traceback": [
      "\u001b[1;31m---------------------------------------------------------------------------\u001b[0m",
      "\u001b[1;31mNameError\u001b[0m                                 Traceback (most recent call last)",
      "\u001b[1;32m<ipython-input-4-7029987b6c89>\u001b[0m in \u001b[0;36m<module>\u001b[1;34m\u001b[0m\n\u001b[1;32m----> 1\u001b[1;33m \u001b[0mscores\u001b[0m \u001b[1;33m=\u001b[0m \u001b[0mmodel\u001b[0m\u001b[1;33m.\u001b[0m\u001b[0mevaluate\u001b[0m\u001b[1;33m(\u001b[0m\u001b[0mtest_ds\u001b[0m\u001b[1;33m)\u001b[0m\u001b[1;33m\u001b[0m\u001b[1;33m\u001b[0m\u001b[0m\n\u001b[0m",
      "\u001b[1;31mNameError\u001b[0m: name 'model' is not defined"
     ]
    }
   ],
   "source": [
    "scores = model.evaluate(test_ds)"
   ]
  },
  {
   "cell_type": "code",
   "execution_count": null,
   "metadata": {},
   "outputs": [],
   "source": [
    "model.save('NN/saved model/hindi_class_1')"
   ]
  },
  {
   "cell_type": "code",
   "execution_count": 18,
   "metadata": {},
   "outputs": [],
   "source": [
    "import os\n",
    "os.chdir('F://')\n",
    "L = []\n",
    "import numpy as np\n",
    "from keras.preprocessing import image\n",
    "for i in os.listdir('HINDI_CHAR_CNN/test'):\n",
    "    imgp =\"F:/HINDI_CHAR_CNN/test/\"+str(i)\n",
    "    img_width, img_height = 150, 150\n",
    "    img = image.load_img(imgp, target_size = (300, 400))\n",
    "    img = image.img_to_array(img)\n",
    "    img = np.expand_dims(img, axis = 0)\n",
    "    index = i.split('.')[0]\n",
    "    L.append([int(index),i,class_names[np.argmax(load_m.predict(img))]])"
   ]
  },
  {
   "cell_type": "code",
   "execution_count": 19,
   "metadata": {},
   "outputs": [],
   "source": [
    "L = sorted(L)"
   ]
  }

  
  
